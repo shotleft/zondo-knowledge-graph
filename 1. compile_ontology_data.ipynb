{
 "cells": [
  {
   "cell_type": "markdown",
   "id": "5da79b3e-ca86-458c-abf7-8ddc3fda416e",
   "metadata": {},
   "source": [
    "## Import required libraries"
   ]
  },
  {
   "cell_type": "code",
   "execution_count": 6,
   "id": "71c70318-aa3e-4b90-8acc-12c3df2f5543",
   "metadata": {
    "tags": []
   },
   "outputs": [],
   "source": [
    "import pandas as pd\n",
    "import pickle\n",
    "from kg_builder import hlp_functions as hlp"
   ]
  },
  {
   "cell_type": "markdown",
   "id": "ef0393d0-45d3-4966-a6f6-4a35d1c3631e",
   "metadata": {},
   "source": [
    "## Import previous version of prepared info\n",
    "\n",
    "The csv file __'rebel_flair_overview.csv'__ was compiled in a semi-automated fashion, using the following functions available in kg_builder.hlp_functions.\n",
    "\n",
    "- ```get_property_id()``` takes in a relation label and returns the matching Wikidata property Id.\n",
    "- ```get_inverse_property()``` takes in a Wikidata property Id and returns the matching inverse property Id (if available) or the inverse item Id (if available)\n",
    "- ```get_wd_relation_data()``` takes in a list of relations and performs both functions above, returning a list of dicts with main relation PId and description and corresponding inverse relation P/QId and description\n",
    "\n",
    "The __property_details__ and __item_details__ dicts were compiled, using the following functions available in kg_builder.hlp_functions.\n",
    "\n",
    "- ```get_property_details()``` takes in a Wikidata property Id and returns a dict containing Wikidata description, aliases, the subject_type_constraint (which informs the node label type of the subject) and the value_type_constraint (which informs the node label type of the predicate)\n",
    "- ```get_item_details()``` takes in a Wikidata item Id and returns a dict containing Wikidata description, and aliases\n",
    "\n",
    "The above functions are API calls to Wikidata so they were only run once to retrieve the data before reviewing it - the outputs of which are contained in __'rebel_flair_overview.csv'__.\n",
    "\n",
    "The __PIds__ and __QIds__ are simply lists of the unique PIds and QIds included in the final 'ontology'."
   ]
  },
  {
   "cell_type": "code",
   "execution_count": 7,
   "id": "9c339edf-6263-4760-b8c0-ac7ae0bd7ca1",
   "metadata": {
    "tags": []
   },
   "outputs": [],
   "source": [
    "rebel_flair_overview, PIds, QIds, property_details, item_details = \\\n",
    "hlp.get_wikidata_prepared_info('reference_info/wikidata_references.pkl')"
   ]
  },
  {
   "cell_type": "markdown",
   "id": "8773c688-fa9e-4685-9e30-5e91ca18dbb9",
   "metadata": {},
   "source": [
    "## Update prepared info\n",
    "\n",
    "As __'rebel_flair_overview.csv'__ was reviewed updates occured, which were incorporated as follows:"
   ]
  },
  {
   "cell_type": "code",
   "execution_count": 8,
   "id": "a1ebeb38-a4ec-4d60-973e-8ef9c55b22bb",
   "metadata": {
    "tags": []
   },
   "outputs": [],
   "source": [
    "rebel_flair_overview = pd.read_csv('reference_info/rebel_flair_selected.csv')"
   ]
  },
  {
   "cell_type": "code",
   "execution_count": 9,
   "id": "e675a641-e621-4ef1-8fed-20d2a81a6144",
   "metadata": {
    "tags": []
   },
   "outputs": [],
   "source": [
    "all_labels = list(rebel_flair_overview.loc[rebel_flair_overview['wikidata property'].notna(), 'wikidata property']) + \\\n",
    "list(rebel_flair_overview.loc[rebel_flair_overview['inverse property or label'].notna(), 'inverse property or label'])\n",
    "\n",
    "PIds = [label for label in all_labels if label.startswith('P')]\n",
    "QIds = [label for label in all_labels if label.startswith('Q')]"
   ]
  },
  {
   "cell_type": "code",
   "execution_count": 10,
   "id": "e8d6e47f-c578-4f60-bd1e-c697de1d0d27",
   "metadata": {
    "tags": []
   },
   "outputs": [],
   "source": [
    "with open('reference_info/wikidata_references.pkl', 'wb') as file:\n",
    "    # Write the objects to the file\n",
    "    pickle.dump((rebel_flair_overview, PIds, QIds, property_details, item_details), file)"
   ]
  }
 ],
 "metadata": {
  "environment": {
   "kernel": "conda-env-pytorch-pytorch",
   "name": "workbench-notebooks.m120",
   "type": "gcloud",
   "uri": "us-docker.pkg.dev/deeplearning-platform-release/gcr.io/workbench-notebooks:m120"
  },
  "kernelspec": {
   "display_name": "PyTorch 1-13",
   "language": "python",
   "name": "conda-env-pytorch-pytorch"
  },
  "language_info": {
   "codemirror_mode": {
    "name": "ipython",
    "version": 3
   },
   "file_extension": ".py",
   "mimetype": "text/x-python",
   "name": "python",
   "nbconvert_exporter": "python",
   "pygments_lexer": "ipython3",
   "version": "3.10.14"
  }
 },
 "nbformat": 4,
 "nbformat_minor": 5
}
