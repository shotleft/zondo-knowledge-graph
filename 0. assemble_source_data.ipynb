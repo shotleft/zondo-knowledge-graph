{
 "cells": [
  {
   "cell_type": "markdown",
   "id": "9e5fd6cd-f2df-47db-906d-e2c7c18875fe",
   "metadata": {},
   "source": [
    "# Prepare Zondo Commission articles\n",
    "\n",
    "## Import required libraries and setup query"
   ]
  },
  {
   "cell_type": "code",
   "execution_count": 1,
   "id": "a52460e0-346b-4909-885c-ea60cd4dddea",
   "metadata": {
    "tags": []
   },
   "outputs": [],
   "source": [
    "import pandas as pd\n",
    "import pandas_gbq\n",
    "from sklearn.model_selection import train_test_split"
   ]
  },
  {
   "cell_type": "code",
   "execution_count": 2,
   "id": "f0a63d8e-19e0-42db-bd30-709f7a2f5f9c",
   "metadata": {
    "tags": []
   },
   "outputs": [],
   "source": [
    "def import_article_data(sample: bool = False) -> pd.DataFrame:\n",
    "    '''Get Id, Title, Synopsis and CleanBody for relevant articles'''\n",
    "    \n",
    "    if sample:\n",
    "        main_table = '`cas-lake.zondo_kg.stratified_sample_30`'\n",
    "    else: \n",
    "        main_table = '`cas-lake.zondo_kg.raw_article_data`'\n",
    "    query_or_table = f'''\n",
    "        SELECT\n",
    "            a.Id\n",
    "            , a.SampleType\n",
    "            , a.Title\n",
    "            , a.Permatitle\n",
    "            , a.Synopsis\n",
    "            , b.CleanBody\n",
    "        FROM {main_table} a\n",
    "        INNER JOIN `cas-lake.zondo_kg.clean_body` b\n",
    "        ON a.Id = b.Id\n",
    "        WHERE Included = TRUE\n",
    "        '''\n",
    "\n",
    "    df = pandas_gbq.read_gbq(project_id='cas-lake', query_or_table=query_or_table, use_bqstorage_api=True)\n",
    "\n",
    "    return df"
   ]
  },
  {
   "cell_type": "markdown",
   "id": "31bfef49-7fc0-4c4c-8eef-b785dfd87105",
   "metadata": {},
   "source": [
    "## Get sample data"
   ]
  },
  {
   "cell_type": "code",
   "execution_count": 3,
   "id": "eba56747-164b-4945-b9a8-023e60da7fbf",
   "metadata": {
    "tags": []
   },
   "outputs": [
    {
     "name": "stdout",
     "output_type": "stream",
     "text": [
      "Downloading: 100%|\u001b[32m██████████\u001b[0m|\n"
     ]
    },
    {
     "data": {
      "text/html": [
       "<div>\n",
       "<style scoped>\n",
       "    .dataframe tbody tr th:only-of-type {\n",
       "        vertical-align: middle;\n",
       "    }\n",
       "\n",
       "    .dataframe tbody tr th {\n",
       "        vertical-align: top;\n",
       "    }\n",
       "\n",
       "    .dataframe thead th {\n",
       "        text-align: right;\n",
       "    }\n",
       "</style>\n",
       "<table border=\"1\" class=\"dataframe\">\n",
       "  <thead>\n",
       "    <tr style=\"text-align: right;\">\n",
       "      <th></th>\n",
       "      <th>Id</th>\n",
       "      <th>SampleType</th>\n",
       "      <th>Title</th>\n",
       "      <th>Permatitle</th>\n",
       "      <th>Synopsis</th>\n",
       "      <th>CleanBody</th>\n",
       "    </tr>\n",
       "  </thead>\n",
       "  <tbody>\n",
       "    <tr>\n",
       "      <th>0</th>\n",
       "      <td>ed94c34a-8499-44f9-afb4-f8df96bb8843</td>\n",
       "      <td>general</td>\n",
       "      <td>Zondo commission to issue a summons for Jacob ...</td>\n",
       "      <td>zondo-commission-to-issue-a-summons-for-jacob-...</td>\n",
       "      <td>The state capture commission of inquiry says i...</td>\n",
       "      <td>The state capture commission of inquiry says i...</td>\n",
       "    </tr>\n",
       "    <tr>\n",
       "      <th>1</th>\n",
       "      <td>b98bba34-c5d7-440b-b7a5-e365fabf4bc3</td>\n",
       "      <td>general</td>\n",
       "      <td>WATCH LIVE | State capture inquiry continues t...</td>\n",
       "      <td>watch-live-state-capture-inquiry-continues-to-...</td>\n",
       "      <td>The state capture inquiry will on Friday conti...</td>\n",
       "      <td>PwC South Africa auditor Pule Mothibe admitted...</td>\n",
       "    </tr>\n",
       "  </tbody>\n",
       "</table>\n",
       "</div>"
      ],
      "text/plain": [
       "                                     Id SampleType  \\\n",
       "0  ed94c34a-8499-44f9-afb4-f8df96bb8843    general   \n",
       "1  b98bba34-c5d7-440b-b7a5-e365fabf4bc3    general   \n",
       "\n",
       "                                               Title  \\\n",
       "0  Zondo commission to issue a summons for Jacob ...   \n",
       "1  WATCH LIVE | State capture inquiry continues t...   \n",
       "\n",
       "                                          Permatitle  \\\n",
       "0  zondo-commission-to-issue-a-summons-for-jacob-...   \n",
       "1  watch-live-state-capture-inquiry-continues-to-...   \n",
       "\n",
       "                                            Synopsis  \\\n",
       "0  The state capture commission of inquiry says i...   \n",
       "1  The state capture inquiry will on Friday conti...   \n",
       "\n",
       "                                           CleanBody  \n",
       "0  The state capture commission of inquiry says i...  \n",
       "1  PwC South Africa auditor Pule Mothibe admitted...  "
      ]
     },
     "execution_count": 3,
     "metadata": {},
     "output_type": "execute_result"
    }
   ],
   "source": [
    "sample_df = import_article_data(sample = True)\n",
    "sample_df.head(2)"
   ]
  },
  {
   "cell_type": "code",
   "execution_count": 4,
   "id": "cf431f32-5712-4e87-b022-a6e56a3a5f72",
   "metadata": {
    "tags": []
   },
   "outputs": [
    {
     "data": {
      "text/html": [
       "<div>\n",
       "<style scoped>\n",
       "    .dataframe tbody tr th:only-of-type {\n",
       "        vertical-align: middle;\n",
       "    }\n",
       "\n",
       "    .dataframe tbody tr th {\n",
       "        vertical-align: top;\n",
       "    }\n",
       "\n",
       "    .dataframe thead th {\n",
       "        text-align: right;\n",
       "    }\n",
       "</style>\n",
       "<table border=\"1\" class=\"dataframe\">\n",
       "  <thead>\n",
       "    <tr style=\"text-align: right;\">\n",
       "      <th></th>\n",
       "      <th>Id</th>\n",
       "    </tr>\n",
       "    <tr>\n",
       "      <th>SampleType</th>\n",
       "      <th></th>\n",
       "    </tr>\n",
       "  </thead>\n",
       "  <tbody>\n",
       "    <tr>\n",
       "      <th>analysis</th>\n",
       "      <td>2</td>\n",
       "    </tr>\n",
       "    <tr>\n",
       "      <th>general</th>\n",
       "      <td>22</td>\n",
       "    </tr>\n",
       "    <tr>\n",
       "      <th>opinion</th>\n",
       "      <td>6</td>\n",
       "    </tr>\n",
       "  </tbody>\n",
       "</table>\n",
       "</div>"
      ],
      "text/plain": [
       "            Id\n",
       "SampleType    \n",
       "analysis     2\n",
       "general     22\n",
       "opinion      6"
      ]
     },
     "execution_count": 4,
     "metadata": {},
     "output_type": "execute_result"
    }
   ],
   "source": [
    "# Check how many articles we have per type overall\n",
    "sample_df.groupby('SampleType').count()[['Id']]"
   ]
  },
  {
   "cell_type": "code",
   "execution_count": 5,
   "id": "2ca70a7e-8c21-49d0-972f-7ad0238aff96",
   "metadata": {
    "tags": []
   },
   "outputs": [],
   "source": [
    "# Collate the 3 text elements into a new field AllText\n",
    "sample_df['AllText'] = sample_df['Title'] + '\\n' + sample_df['Synopsis'] + '\\n' + sample_df['CleanBody']\n",
    "\n",
    "# Perform the train/test split - 10 articles will be used to investigate what improvements\n",
    "# can be made to the model outputs and develop additional methods for realising these\n",
    "# improvements, the remaining 20 articles will be used to test if improvements are present\n",
    "# in the unseen data of the test set\n",
    "train, test = train_test_split(sample_df, test_size=20, stratify=sample_df['SampleType'])"
   ]
  },
  {
   "cell_type": "code",
   "execution_count": 6,
   "id": "5e05cf93-bc3f-4d95-99bb-93d208cf454d",
   "metadata": {
    "tags": []
   },
   "outputs": [
    {
     "data": {
      "text/html": [
       "<div>\n",
       "<style scoped>\n",
       "    .dataframe tbody tr th:only-of-type {\n",
       "        vertical-align: middle;\n",
       "    }\n",
       "\n",
       "    .dataframe tbody tr th {\n",
       "        vertical-align: top;\n",
       "    }\n",
       "\n",
       "    .dataframe thead th {\n",
       "        text-align: right;\n",
       "    }\n",
       "</style>\n",
       "<table border=\"1\" class=\"dataframe\">\n",
       "  <thead>\n",
       "    <tr style=\"text-align: right;\">\n",
       "      <th></th>\n",
       "      <th>Id</th>\n",
       "    </tr>\n",
       "    <tr>\n",
       "      <th>SampleType</th>\n",
       "      <th></th>\n",
       "    </tr>\n",
       "  </thead>\n",
       "  <tbody>\n",
       "    <tr>\n",
       "      <th>analysis</th>\n",
       "      <td>1</td>\n",
       "    </tr>\n",
       "    <tr>\n",
       "      <th>general</th>\n",
       "      <td>7</td>\n",
       "    </tr>\n",
       "    <tr>\n",
       "      <th>opinion</th>\n",
       "      <td>2</td>\n",
       "    </tr>\n",
       "  </tbody>\n",
       "</table>\n",
       "</div>"
      ],
      "text/plain": [
       "            Id\n",
       "SampleType    \n",
       "analysis     1\n",
       "general      7\n",
       "opinion      2"
      ]
     },
     "execution_count": 6,
     "metadata": {},
     "output_type": "execute_result"
    }
   ],
   "source": [
    "# Check how many articles we have per type in the train set\n",
    "train.groupby('SampleType').count()[['Id']]"
   ]
  },
  {
   "cell_type": "code",
   "execution_count": 7,
   "id": "3a7fa6d6-7bf3-41e3-8a3b-ddec33049637",
   "metadata": {
    "tags": []
   },
   "outputs": [
    {
     "data": {
      "text/html": [
       "<div>\n",
       "<style scoped>\n",
       "    .dataframe tbody tr th:only-of-type {\n",
       "        vertical-align: middle;\n",
       "    }\n",
       "\n",
       "    .dataframe tbody tr th {\n",
       "        vertical-align: top;\n",
       "    }\n",
       "\n",
       "    .dataframe thead th {\n",
       "        text-align: right;\n",
       "    }\n",
       "</style>\n",
       "<table border=\"1\" class=\"dataframe\">\n",
       "  <thead>\n",
       "    <tr style=\"text-align: right;\">\n",
       "      <th></th>\n",
       "      <th>Id</th>\n",
       "    </tr>\n",
       "    <tr>\n",
       "      <th>SampleType</th>\n",
       "      <th></th>\n",
       "    </tr>\n",
       "  </thead>\n",
       "  <tbody>\n",
       "    <tr>\n",
       "      <th>analysis</th>\n",
       "      <td>1</td>\n",
       "    </tr>\n",
       "    <tr>\n",
       "      <th>general</th>\n",
       "      <td>15</td>\n",
       "    </tr>\n",
       "    <tr>\n",
       "      <th>opinion</th>\n",
       "      <td>4</td>\n",
       "    </tr>\n",
       "  </tbody>\n",
       "</table>\n",
       "</div>"
      ],
      "text/plain": [
       "            Id\n",
       "SampleType    \n",
       "analysis     1\n",
       "general     15\n",
       "opinion      4"
      ]
     },
     "execution_count": 7,
     "metadata": {},
     "output_type": "execute_result"
    }
   ],
   "source": [
    "# Check how many articles we have per type in the test set\n",
    "test.groupby('SampleType').count()[['Id']]"
   ]
  },
  {
   "cell_type": "code",
   "execution_count": 8,
   "id": "33a90477-c1bd-4a74-a6ff-7af23d6ed308",
   "metadata": {
    "tags": []
   },
   "outputs": [],
   "source": [
    "# Add a 'split' column with default value 'train'\n",
    "sample_df['Split'] = 'train'\n",
    "# Set the articles from 'test':\n",
    "sample_df.loc[sample_df['Id'].isin(test['Id']), 'Split'] = 'test'"
   ]
  },
  {
   "cell_type": "code",
   "execution_count": 9,
   "id": "62c8cbcf-c7a2-424a-ba30-9dd3ee7affaf",
   "metadata": {
    "tags": []
   },
   "outputs": [],
   "source": [
    "sample_df[['Id', 'Permatitle', 'SampleType', 'AllText', 'Split']].to_parquet('source_data/sample_text_30.pq')"
   ]
  },
  {
   "cell_type": "markdown",
   "id": "41f79465-3681-40ec-9a66-b023ae41577d",
   "metadata": {
    "tags": []
   },
   "source": [
    "## Get full data"
   ]
  },
  {
   "cell_type": "code",
   "execution_count": 10,
   "id": "2dd00ea0-b21a-482e-8801-a2e9a7408582",
   "metadata": {
    "tags": []
   },
   "outputs": [
    {
     "name": "stdout",
     "output_type": "stream",
     "text": [
      "Downloading: 100%|\u001b[32m██████████\u001b[0m|\n"
     ]
    }
   ],
   "source": [
    "full_df = import_article_data(sample = False)"
   ]
  },
  {
   "cell_type": "code",
   "execution_count": 11,
   "id": "ee80e68d-393a-4eaa-8e8e-3b6b95226d73",
   "metadata": {
    "tags": []
   },
   "outputs": [
    {
     "data": {
      "text/html": [
       "<div>\n",
       "<style scoped>\n",
       "    .dataframe tbody tr th:only-of-type {\n",
       "        vertical-align: middle;\n",
       "    }\n",
       "\n",
       "    .dataframe tbody tr th {\n",
       "        vertical-align: top;\n",
       "    }\n",
       "\n",
       "    .dataframe thead th {\n",
       "        text-align: right;\n",
       "    }\n",
       "</style>\n",
       "<table border=\"1\" class=\"dataframe\">\n",
       "  <thead>\n",
       "    <tr style=\"text-align: right;\">\n",
       "      <th></th>\n",
       "      <th>Id</th>\n",
       "    </tr>\n",
       "    <tr>\n",
       "      <th>SampleType</th>\n",
       "      <th></th>\n",
       "    </tr>\n",
       "  </thead>\n",
       "  <tbody>\n",
       "    <tr>\n",
       "      <th>analysis</th>\n",
       "      <td>142</td>\n",
       "    </tr>\n",
       "    <tr>\n",
       "      <th>general</th>\n",
       "      <td>1551</td>\n",
       "    </tr>\n",
       "    <tr>\n",
       "      <th>opinion</th>\n",
       "      <td>388</td>\n",
       "    </tr>\n",
       "  </tbody>\n",
       "</table>\n",
       "</div>"
      ],
      "text/plain": [
       "              Id\n",
       "SampleType      \n",
       "analysis     142\n",
       "general     1551\n",
       "opinion      388"
      ]
     },
     "execution_count": 11,
     "metadata": {},
     "output_type": "execute_result"
    }
   ],
   "source": [
    "# Check how many articles we have per type overall\n",
    "full_df.groupby('SampleType').count()[['Id']]"
   ]
  },
  {
   "cell_type": "code",
   "execution_count": 12,
   "id": "501a0a2d-fc53-4ba1-8847-351aa1109d26",
   "metadata": {
    "tags": []
   },
   "outputs": [],
   "source": [
    "# Collate the 3 text elements into a new field AllText\n",
    "full_df['AllText'] = full_df['Title'] + '\\n' + full_df['Synopsis'] + '\\n' + full_df['CleanBody']\n",
    "\n",
    "# Adding in a cleaning step because some Synopsis entries were found to have the strong tag\n",
    "full_df['AllText'] = full_df['AllText'].str.replace('<strong>|</strong>', '', regex=True)"
   ]
  },
  {
   "cell_type": "code",
   "execution_count": 13,
   "id": "82f2172e-a063-43c1-b0f5-dee1078ba5eb",
   "metadata": {
    "tags": []
   },
   "outputs": [],
   "source": [
    "full_df[['Id', 'Permatitle', 'SampleType', 'AllText']].to_parquet('source_data/full_text.pq')"
   ]
  }
 ],
 "metadata": {
  "environment": {
   "kernel": "conda-env-pytorch-pytorch",
   "name": "workbench-notebooks.m120",
   "type": "gcloud",
   "uri": "us-docker.pkg.dev/deeplearning-platform-release/gcr.io/workbench-notebooks:m120"
  },
  "kernelspec": {
   "display_name": "PyTorch 1-13",
   "language": "python",
   "name": "conda-env-pytorch-pytorch"
  },
  "language_info": {
   "codemirror_mode": {
    "name": "ipython",
    "version": 3
   },
   "file_extension": ".py",
   "mimetype": "text/x-python",
   "name": "python",
   "nbconvert_exporter": "python",
   "pygments_lexer": "ipython3",
   "version": "3.10.14"
  }
 },
 "nbformat": 4,
 "nbformat_minor": 5
}
