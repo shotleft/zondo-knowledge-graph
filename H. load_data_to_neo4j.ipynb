{
 "cells": [
  {
   "cell_type": "code",
   "execution_count": 1,
   "metadata": {},
   "outputs": [],
   "source": [
    "from neo4j import GraphDatabase\n",
    "# Neo4j connection URI and credentials\n",
    "uri = 'neo4j+s://*.io'\n",
    "user = ''\n",
    "password = ''\n",
    "driver = GraphDatabase.driver(uri, auth=(user, password))"
   ]
  },
  {
   "cell_type": "code",
   "execution_count": 2,
   "metadata": {},
   "outputs": [],
   "source": [
    "entities = ['ARTICLE', 'DATE', 'ORG', 'EVENT', 'PERSON', 'POSITION', 'GPE', 'FAC', 'OCCUPATION', 'PRODUCT', 'INDUSTRY', 'LAW', 'FAMILY', 'PUBLICATION', 'AWARD', 'LOC']\n",
    "relations = ['dissolved_abolished_or_demolished_date', 'parent_organization', 'participant', 'mentioned_in', 'position_held', 'chairperson', 'located_in_the_administrative_territorial_entity', 'member_of_political_party', 'significant_event', 'employer', 'military_rank', 'capital', 'inception', 'field_of_work', 'date_of_death', 'product_or_material_produced', 'office_held_by_head_of_the_organization', 'spouse', 'head_of_government', 'owned_by', 'appointed_by', 'country', 'occupation', 'head_of_state', 'child', 'member_of', 'contains_administrative_territorial_entity', 'industry', 'applies_to_jurisdiction', 'legislated_by', 'father', 'residence', 'family', 'cast_member', 'legislative_body', 'founded_by', 'place_of_death', 'sibling', 'headquarters_location', 'operator', 'location', 'country_of_origin', 'editor', 'place_of_birth', 'office_held_by_head_of_government', 'relative', 'shares_border_with', 'presenter', 'candidacy_in_election', 'country_of_citizenship', 'member_of_sports_team', 'educated_at', 'religion', 'authority', 'replaces', 'military_branch', 'mother', 'award_received', 'location_of_formation', 'organizer', 'affiliation', 'director']"
   ]
  },
  {
   "cell_type": "code",
   "execution_count": 3,
   "metadata": {},
   "outputs": [],
   "source": [
    "# Function to load data from CSV\n",
    "def load_entities(driver, entity):\n",
    "    with driver.session() as session:\n",
    "        print(f\"Starting data load for {entity}\")\n",
    "        query = f'''\n",
    "        LOAD CSV WITH HEADERS FROM 'https://storage.googleapis.com/zondo-kg/{entity}.csv' AS row\n",
    "        MERGE (p:{entity} {{EntityId: row.EntityId}})\n",
    "        SET p.Name = row.Name\n",
    "        SET p.AlsoKnownAs = split(row.AlsoKnownAs, \";\")\n",
    "        SET p.WDId = row.WDId\n",
    "        SET p.WDUrl = row.WDUrl\n",
    "        SET p.WDDescription = row.WDDescription\n",
    "        SET p.WDSource = row.WDSource\n",
    "        '''\n",
    "        session.run(query)\n",
    "        print(f\"Data loaded for {entity}\")"
   ]
  },
  {
   "cell_type": "code",
   "execution_count": 4,
   "metadata": {},
   "outputs": [],
   "source": [
    "# Function to load data from CSV\n",
    "def load_relations(driver, relation):\n",
    "    with driver.session() as session:\n",
    "        query = f'''\n",
    "        LOAD CSV WITH HEADERS FROM 'https://storage.googleapis.com/zondo-kg/{relation}.csv' AS row\n",
    "        MATCH (head {{EntityId: row.HeadId}}), (tail {{EntityId: row.TailId}})\n",
    "        MERGE (head)-[r:{relation}]->(tail)\n",
    "        SET r.RelationId = row.RelationId\n",
    "        SET r.Weight = toInteger(row.Weight)\n",
    "        '''\n",
    "        session.run(query)\n",
    "        print(f\"Data loaded for {relation}\")"
   ]
  },
  {
   "cell_type": "code",
   "execution_count": 5,
   "metadata": {},
   "outputs": [
    {
     "name": "stdout",
     "output_type": "stream",
     "text": [
      "Starting data load for ARTICLE\n",
      "Data loaded for ARTICLE\n",
      "Starting data load for DATE\n",
      "Data loaded for DATE\n",
      "Starting data load for ORG\n",
      "Data loaded for ORG\n",
      "Starting data load for EVENT\n",
      "Data loaded for EVENT\n",
      "Starting data load for PERSON\n",
      "Data loaded for PERSON\n",
      "Starting data load for POSITION\n",
      "Data loaded for POSITION\n",
      "Starting data load for GPE\n",
      "Data loaded for GPE\n",
      "Starting data load for FAC\n",
      "Data loaded for FAC\n",
      "Starting data load for OCCUPATION\n",
      "Data loaded for OCCUPATION\n",
      "Starting data load for PRODUCT\n",
      "Data loaded for PRODUCT\n",
      "Starting data load for INDUSTRY\n",
      "Data loaded for INDUSTRY\n",
      "Starting data load for LAW\n",
      "Data loaded for LAW\n",
      "Starting data load for FAMILY\n",
      "Data loaded for FAMILY\n",
      "Starting data load for PUBLICATION\n",
      "Data loaded for PUBLICATION\n",
      "Starting data load for AWARD\n",
      "Data loaded for AWARD\n",
      "Starting data load for LOC\n",
      "Data loaded for LOC\n"
     ]
    }
   ],
   "source": [
    "# Load data for each relation\n",
    "# try:\n",
    "for entity in entities:\n",
    "    load_entities(driver, entity)\n",
    "# except:\n",
    "#     print(f\"An error occured while loading data for {entity}\")"
   ]
  },
  {
   "cell_type": "code",
   "execution_count": 6,
   "metadata": {},
   "outputs": [
    {
     "name": "stdout",
     "output_type": "stream",
     "text": [
      "Data loaded for dissolved_abolished_or_demolished_date\n",
      "Data loaded for parent_organization\n",
      "Data loaded for participant\n",
      "Data loaded for mentioned_in\n",
      "Data loaded for position_held\n",
      "Data loaded for chairperson\n",
      "Data loaded for located_in_the_administrative_territorial_entity\n",
      "Data loaded for member_of_political_party\n",
      "Data loaded for significant_event\n",
      "Data loaded for employer\n",
      "Data loaded for military_rank\n",
      "Data loaded for capital\n",
      "Data loaded for inception\n",
      "Data loaded for field_of_work\n",
      "Data loaded for date_of_death\n",
      "Data loaded for product_or_material_produced\n",
      "Data loaded for office_held_by_head_of_the_organization\n",
      "Data loaded for spouse\n",
      "Data loaded for head_of_government\n",
      "Data loaded for owned_by\n",
      "Data loaded for appointed_by\n",
      "Data loaded for country\n",
      "Data loaded for occupation\n",
      "Data loaded for head_of_state\n",
      "Data loaded for child\n",
      "Data loaded for member_of\n",
      "Data loaded for contains_administrative_territorial_entity\n",
      "Data loaded for industry\n",
      "Data loaded for applies_to_jurisdiction\n",
      "Data loaded for legislated_by\n",
      "Data loaded for father\n",
      "Data loaded for residence\n",
      "Data loaded for family\n",
      "Data loaded for cast_member\n",
      "Data loaded for legislative_body\n",
      "Data loaded for founded_by\n",
      "Data loaded for place_of_death\n",
      "Data loaded for sibling\n",
      "Data loaded for headquarters_location\n",
      "Data loaded for operator\n",
      "Data loaded for location\n",
      "Data loaded for country_of_origin\n",
      "Data loaded for editor\n",
      "Data loaded for place_of_birth\n",
      "Data loaded for office_held_by_head_of_government\n",
      "Data loaded for relative\n",
      "Data loaded for shares_border_with\n",
      "Data loaded for presenter\n",
      "Data loaded for candidacy_in_election\n",
      "Data loaded for country_of_citizenship\n",
      "Data loaded for member_of_sports_team\n",
      "Data loaded for educated_at\n",
      "Data loaded for religion\n",
      "Data loaded for authority\n",
      "Data loaded for replaces\n",
      "Data loaded for military_branch\n",
      "Data loaded for mother\n",
      "Data loaded for award_received\n",
      "Data loaded for location_of_formation\n",
      "Data loaded for organizer\n",
      "Data loaded for affiliation\n",
      "Data loaded for director\n"
     ]
    }
   ],
   "source": [
    "# Load data for each relation\n",
    "\n",
    "for relation in relations:\n",
    "    load_relations(driver, relation)\n"
   ]
  }
 ],
 "metadata": {
  "kernelspec": {
   "display_name": "Python 3",
   "language": "python",
   "name": "python3"
  },
  "language_info": {
   "codemirror_mode": {
    "name": "ipython",
    "version": 3
   },
   "file_extension": ".py",
   "mimetype": "text/x-python",
   "name": "python",
   "nbconvert_exporter": "python",
   "pygments_lexer": "ipython3",
   "version": "3.11.7"
  }
 },
 "nbformat": 4,
 "nbformat_minor": 2
}
