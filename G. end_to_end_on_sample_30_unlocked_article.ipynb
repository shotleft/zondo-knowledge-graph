{
 "cells": [
  {
   "cell_type": "markdown",
   "id": "127f3e5d-db09-4ebd-8d3b-fd47209def9c",
   "metadata": {},
   "source": [
    "# Run on sample of 30 unlocked articles\n",
    "\n",
    "A sample of 30 unlocked articles has been made available (these are articles in front of the News24 paywall) in the file 'source_data/sample_text_30_unlocked.pq'.\n",
    "\n",
    "When running on GPU one can use ```watch -n 1 nvidia-smi``` to monitor GPU usage."
   ]
  },
  {
   "cell_type": "markdown",
   "id": "5b20b3f7-acc4-40a9-9075-53119dc37968",
   "metadata": {},
   "source": [
    "## Import required libraries"
   ]
  },
  {
   "cell_type": "code",
   "execution_count": 1,
   "id": "030a8ce0-d3f6-4f61-a135-21d66547cf1d",
   "metadata": {
    "tags": []
   },
   "outputs": [],
   "source": [
    "import json\n",
    "import time\n",
    "import pandas as pd\n",
    "import torch\n",
    "from kg_builder import kg\n",
    "from kg_builder import ner\n",
    "from kg_builder import cr\n",
    "from kg_builder import rex\n",
    "from kg_builder import get_wd_relation_data\n",
    "from kg_builder import chunk_long_articles"
   ]
  },
  {
   "cell_type": "markdown",
   "id": "0f840c79-c509-4aab-8b80-2e90554273b8",
   "metadata": {},
   "source": [
    "## Import data and make articles"
   ]
  },
  {
   "cell_type": "code",
   "execution_count": 2,
   "id": "80a1d804-1086-44b4-bf0d-8254b862516e",
   "metadata": {
    "tags": []
   },
   "outputs": [],
   "source": [
    "# Import (sample) data\n",
    "df = pd.read_parquet('source_data/sample_text_30_unlocked.pq')"
   ]
  },
  {
   "cell_type": "code",
   "execution_count": 3,
   "id": "6989eed8-8f35-431a-b849-fc2640f89d26",
   "metadata": {
    "tags": []
   },
   "outputs": [],
   "source": [
    "# Make a list of Article instances\n",
    "articles = kg.make_articles(df=df)\n",
    "\n",
    "# Just get 3 to test with on CPU - comment out for full run\n",
    "# articles = articles[0:3]"
   ]
  },
  {
   "cell_type": "markdown",
   "id": "1c0c3bf8-c937-4c15-bbeb-ad7b08a1198f",
   "metadata": {},
   "source": [
    "## Assmble base model outputs"
   ]
  },
  {
   "cell_type": "markdown",
   "id": "9577f0fd-b967-442b-8613-36b276db3f64",
   "metadata": {},
   "source": [
    "### Run NER and CR\n",
    "The `cr_tagger` runs both named entity recognition (NER) and coreference resolution (CR) since they are both spaCy-based. Although the outputs from CR were not used in the last iteration of the build-and-evaluate loop I have left CR in as results show that it should be explored further at the next iteration."
   ]
  },
  {
   "cell_type": "code",
   "execution_count": 4,
   "id": "2b0bf135-bfe7-4acf-abfb-45b1f05e4781",
   "metadata": {
    "tags": []
   },
   "outputs": [
    {
     "name": "stderr",
     "output_type": "stream",
     "text": [
      "/opt/conda/envs/pytorch/lib/python3.10/site-packages/huggingface_hub/file_download.py:1132: FutureWarning: `resume_download` is deprecated and will be removed in version 1.0.0. Downloads always resume when possible. If you want to force a new download, use `force_download=True`.\n",
      "  warnings.warn(\n"
     ]
    },
    {
     "data": {
      "application/vnd.jupyter.widget-view+json": {
       "model_id": "91f39482f3a84ae4b5816a191af689b9",
       "version_major": 2,
       "version_minor": 0
      },
      "text/plain": [
       "Map:   0%|          | 0/5 [00:00<?, ? examples/s]"
      ]
     },
     "metadata": {},
     "output_type": "display_data"
    },
    {
     "data": {
      "application/vnd.jupyter.widget-view+json": {
       "model_id": "d8d7926d28ea46069482dacbb07cab1d",
       "version_major": 2,
       "version_minor": 0
      },
      "text/plain": [
       "Inference:   0%|          | 0/5 [00:00<?, ?it/s]"
      ]
     },
     "metadata": {},
     "output_type": "display_data"
    },
    {
     "data": {
      "application/vnd.jupyter.widget-view+json": {
       "model_id": "f1c1f09537c94ebfa5e6fb97b4cce291",
       "version_major": 2,
       "version_minor": 0
      },
      "text/plain": [
       "Map:   0%|          | 0/5 [00:00<?, ? examples/s]"
      ]
     },
     "metadata": {},
     "output_type": "display_data"
    },
    {
     "data": {
      "application/vnd.jupyter.widget-view+json": {
       "model_id": "47fa334d3300410fa27c94e5ec38e505",
       "version_major": 2,
       "version_minor": 0
      },
      "text/plain": [
       "Inference:   0%|          | 0/5 [00:00<?, ?it/s]"
      ]
     },
     "metadata": {},
     "output_type": "display_data"
    },
    {
     "data": {
      "application/vnd.jupyter.widget-view+json": {
       "model_id": "5136a5389a2341f28a0e883c4a4a74c6",
       "version_major": 2,
       "version_minor": 0
      },
      "text/plain": [
       "Map:   0%|          | 0/5 [00:00<?, ? examples/s]"
      ]
     },
     "metadata": {},
     "output_type": "display_data"
    },
    {
     "data": {
      "application/vnd.jupyter.widget-view+json": {
       "model_id": "51e12276b25f406eb268c2ddf88db574",
       "version_major": 2,
       "version_minor": 0
      },
      "text/plain": [
       "Inference:   0%|          | 0/5 [00:00<?, ?it/s]"
      ]
     },
     "metadata": {},
     "output_type": "display_data"
    },
    {
     "data": {
      "application/vnd.jupyter.widget-view+json": {
       "model_id": "d23646f035cc4557a4ecd810972854b0",
       "version_major": 2,
       "version_minor": 0
      },
      "text/plain": [
       "Map:   0%|          | 0/5 [00:00<?, ? examples/s]"
      ]
     },
     "metadata": {},
     "output_type": "display_data"
    },
    {
     "data": {
      "application/vnd.jupyter.widget-view+json": {
       "model_id": "88280b53924e4d1ba9e989196d6d7105",
       "version_major": 2,
       "version_minor": 0
      },
      "text/plain": [
       "Inference:   0%|          | 0/5 [00:00<?, ?it/s]"
      ]
     },
     "metadata": {},
     "output_type": "display_data"
    },
    {
     "data": {
      "application/vnd.jupyter.widget-view+json": {
       "model_id": "392aa07fe47f43ebbb699d3bbfdf3e80",
       "version_major": 2,
       "version_minor": 0
      },
      "text/plain": [
       "Map:   0%|          | 0/5 [00:00<?, ? examples/s]"
      ]
     },
     "metadata": {},
     "output_type": "display_data"
    },
    {
     "data": {
      "application/vnd.jupyter.widget-view+json": {
       "model_id": "df43b689f6cd4ac3be1549aee4f2150f",
       "version_major": 2,
       "version_minor": 0
      },
      "text/plain": [
       "Inference:   0%|          | 0/5 [00:00<?, ?it/s]"
      ]
     },
     "metadata": {},
     "output_type": "display_data"
    },
    {
     "data": {
      "application/vnd.jupyter.widget-view+json": {
       "model_id": "e6b984349f6b492db0436e6bec2b5903",
       "version_major": 2,
       "version_minor": 0
      },
      "text/plain": [
       "Map:   0%|          | 0/5 [00:00<?, ? examples/s]"
      ]
     },
     "metadata": {},
     "output_type": "display_data"
    },
    {
     "data": {
      "application/vnd.jupyter.widget-view+json": {
       "model_id": "3d29fac10d0f457985f7afafc6e646b9",
       "version_major": 2,
       "version_minor": 0
      },
      "text/plain": [
       "Inference:   0%|          | 0/5 [00:00<?, ?it/s]"
      ]
     },
     "metadata": {},
     "output_type": "display_data"
    },
    {
     "name": "stdout",
     "output_type": "stream",
     "text": [
      ">====== 30 articles processed ======<\n",
      "28.9291250705719\n"
     ]
    }
   ],
   "source": [
    "# Set the model name for coreference resolution\n",
    "cr_model_name = 'fastcoref' # 'lingmess'\n",
    "\n",
    "cr_tagger, cr_model_name = cr.setup_cr_tagger(model_name = cr_model_name)\n",
    "\n",
    "# And then run the model to add NER's to the articles\n",
    "num_articles = len(articles)\n",
    "batch_size = 50\n",
    "start_indices = list(range(0, num_articles, 50))\n",
    "end_indices = start_indices[1:] + [num_articles]\n",
    "batches = list(zip(start_indices, end_indices))\n",
    "\n",
    "device = 'cuda' if torch.cuda.is_available() else 'cpu'\n",
    "\n",
    "start_time = time.time()    \n",
    "for batch in batches:\n",
    "    cr.get_ner_cr_data(articles = articles[batch[0]:batch[1]],cr_tagger = cr_tagger)\n",
    "    if device == 'cuda':\n",
    "        torch.cuda.empty_cache()\n",
    "    print(f'''>====== {batch[1]} articles processed ======<''')\n",
    "end_time = time.time()\n",
    "time_difference = end_time - start_time\n",
    "print(time_difference)"
   ]
  },
  {
   "cell_type": "code",
   "execution_count": 5,
   "id": "80fd3f9d-0b06-437a-97bc-4bf0b253f8c7",
   "metadata": {
    "tags": []
   },
   "outputs": [
    {
     "name": "stdout",
     "output_type": "stream",
     "text": [
      "\n",
      "Article e8da0128-3676-4dd9-9daa-8511b94ca993\n",
      "THE ESKOM FILES | In full: Report by Ishmael\n",
      "--------------------------------------------\n",
      "ESKOM, ORG, [4:9]\n",
      "Ishmael Semenya, PERSON, [37:52]\n",
      "André de Ruyter, PERSON, [96:111]\n",
      "Eskom, ORG, [159:164]\n",
      "André de Ruyter, PERSON, [181:196]\n",
      "Ishmael Semenya SC, PERSON, [320:338]\n",
      "Eskom, ORG, [371:376]\n",
      "Solly Tshitangano, PERSON, [394:411]\n",
      "André de Ruyter, PERSON, [469:484]\n",
      "Tshitangano, ORG, [656:667]\n",
      "De Ruyter, PERSON, [692:701]\n",
      "De Ruyter, PERSON, [829:838]\n",
      "Ishmael Semenya, PERSON, [882:897]\n",
      "Tshitangano, PERSON, [961:972]\n",
      "Public Enterprises, ORG, [1017:1035]\n",
      "Pravin Gordhan, PERSON, [1045:1059]\n",
      "Presidency, ORG, [1065:1075]\n",
      "Parliament, ORG, [1080:1090]\n",
      "Semenya, ORG, [1093:1100]\n",
      "Eskom, ORG, [1124:1129]\n",
      "Tshitangano, PERSON, [1157:1168]\n",
      "De Ruyter, PERSON, [1211:1220]\n",
      "Tshitangano, PERSON, [1267:1278]\n",
      "De Ruyter, PERSON, [1366:1375]\n",
      "Eskom, ORG, [1405:1410]\n",
      "Eskom, ORG, [1449:1454]\n"
     ]
    }
   ],
   "source": [
    "articles[0].print_named_entities()"
   ]
  },
  {
   "cell_type": "markdown",
   "id": "abae66fb-8600-438a-9810-83f6c5fab04c",
   "metadata": {},
   "source": [
    "### Run RE\n",
    "\n",
    "REBEL is used to extract the main relations that will be used, Flair is used exclusively for alternate_name to aid disambiguation."
   ]
  },
  {
   "cell_type": "code",
   "execution_count": 6,
   "id": "457b6ed8-7c9a-452e-8db1-020e9667b1be",
   "metadata": {
    "tags": []
   },
   "outputs": [
    {
     "name": "stdout",
     "output_type": "stream",
     "text": [
      ">====== 30 articles processed ======<\n",
      "26.331096410751343\n"
     ]
    }
   ],
   "source": [
    "# Run Rebel to get the main relations of interest\n",
    "rex_model_name = 'rebel'\n",
    "\n",
    "if rex_model_name == 'rebel':\n",
    "    # Setup the required RE tagger\n",
    "    rex_tagger, rex_tokenizer, device, rex_model_name = rex.setup_rex_tagger(model_name = rex_model_name)\n",
    "\n",
    "    # And then run the model to add REs to the articles\n",
    "    start_time = time.time()\n",
    "    for i, article in enumerate(articles):\n",
    "        chunk_boundaries = chunk_long_articles(article.article_text, max_chunk_size = 20000)\n",
    "        for chunk in chunk_boundaries:\n",
    "            rex.rebel_get_relations(article = article, rex_tokenizer = rex_tokenizer, \\\n",
    "                                    rex_tagger =  rex_tagger, device = device, chunk = chunk)\n",
    "            rex.remove_self_relations(article = article)\n",
    "        # Clear the CUDA cache every 5 articles\n",
    "        if device == 'cuda' and (i + 1) % 5 == 0:\n",
    "            torch.cuda.empty_cache()\n",
    "        if (i + 1) % 50 == 0:\n",
    "            print(f'''>====== {i + 1} articles processed ======<''')\n",
    "    print(f'''>====== {i + 1} articles processed ======<''')\n",
    "    end_time = time.time()\n",
    "    time_difference = end_time - start_time\n",
    "    print(time_difference)"
   ]
  },
  {
   "cell_type": "code",
   "execution_count": 7,
   "id": "4f846481-2511-4f03-9713-a1850cf3719d",
   "metadata": {
    "tags": []
   },
   "outputs": [
    {
     "name": "stdout",
     "output_type": "stream",
     "text": [
      "2024-09-11 10:51:20,161 SequenceTagger predicts: Dictionary with 76 tags: <unk>, O, B-CARDINAL, E-CARDINAL, S-PERSON, S-CARDINAL, S-PRODUCT, B-PRODUCT, I-PRODUCT, E-PRODUCT, B-WORK_OF_ART, I-WORK_OF_ART, E-WORK_OF_ART, B-PERSON, E-PERSON, S-GPE, B-DATE, I-DATE, E-DATE, S-ORDINAL, S-LANGUAGE, I-PERSON, S-EVENT, S-DATE, B-QUANTITY, E-QUANTITY, S-TIME, B-TIME, I-TIME, E-TIME, B-GPE, E-GPE, S-ORG, I-GPE, S-NORP, B-FAC, I-FAC, E-FAC, B-NORP, E-NORP, S-PERCENT, B-ORG, E-ORG, B-LANGUAGE, E-LANGUAGE, I-CARDINAL, I-ORG, S-WORK_OF_ART, I-QUANTITY, B-MONEY\n",
      "2024-09-11 10:51:21,899 Warning: An empty Sentence was created! Are there empty strings in your dataset?\n",
      "2024-09-11 10:51:24,281 Warning: An empty Sentence was created! Are there empty strings in your dataset?\n",
      "2024-09-11 10:51:25,320 Warning: An empty Sentence was created! Are there empty strings in your dataset?\n",
      "2024-09-11 10:51:26,334 Warning: An empty Sentence was created! Are there empty strings in your dataset?\n",
      "2024-09-11 10:51:27,456 Warning: An empty Sentence was created! Are there empty strings in your dataset?\n",
      "2024-09-11 10:51:30,016 Warning: An empty Sentence was created! Are there empty strings in your dataset?\n",
      "2024-09-11 10:51:33,782 Warning: An empty Sentence was created! Are there empty strings in your dataset?\n",
      "2024-09-11 10:51:36,914 Warning: An empty Sentence was created! Are there empty strings in your dataset?\n",
      "2024-09-11 10:51:38,382 Warning: An empty Sentence was created! Are there empty strings in your dataset?\n",
      "2024-09-11 10:51:46,191 Warning: An empty Sentence was created! Are there empty strings in your dataset?\n",
      "2024-09-11 10:51:48,064 Warning: An empty Sentence was created! Are there empty strings in your dataset?\n",
      "2024-09-11 10:51:49,937 Warning: An empty Sentence was created! Are there empty strings in your dataset?\n",
      "2024-09-11 10:51:57,158 Warning: An empty Sentence was created! Are there empty strings in your dataset?\n",
      "2024-09-11 10:51:59,796 Warning: An empty Sentence was created! Are there empty strings in your dataset?\n",
      "2024-09-11 10:52:05,291 Warning: An empty Sentence was created! Are there empty strings in your dataset?\n",
      "2024-09-11 10:52:12,442 Warning: An empty Sentence was created! Are there empty strings in your dataset?\n",
      ">====== 30 articles processed ======<\n",
      "52.86539340019226\n"
     ]
    }
   ],
   "source": [
    "# Run Flair to get alternate_name relations\n",
    "rex_model_name = 'flair'\n",
    "\n",
    "if rex_model_name == 'flair':\n",
    "    # Setup the required RE tagger\n",
    "    rex_tagger, ner_tagger, splitter, device, model_name = rex.setup_rex_tagger(model_name = rex_model_name)\n",
    "    \n",
    "    # And then run the model to add REs to the articles\n",
    "    start_time = time.time()\n",
    "    for i, article in enumerate(articles):\n",
    "        rex.flair_get_relations(article = article, splitter  = splitter, ner_tagger  = ner_tagger, \\\n",
    "                                rex_tagger = rex_tagger, device = device, restricted = True)\n",
    "        rex.remove_self_relations(article = article)\n",
    "        # Clear the CUDA cache every 5 articles\n",
    "        if device == 'cuda' and (i + 1) % 5 == 0:\n",
    "            torch.cuda.empty_cache()\n",
    "        if (i + 1) % 50 == 0:\n",
    "            print(f'''>====== {i + 1} articles processed ======<''')\n",
    "    print(f'''>====== {i + 1} articles processed ======<''')\n",
    "    end_time = time.time()\n",
    "    time_difference = end_time - start_time\n",
    "    print(time_difference)     "
   ]
  },
  {
   "cell_type": "code",
   "execution_count": 8,
   "id": "ca59028e-b877-48b5-8059-aec70680d314",
   "metadata": {
    "tags": []
   },
   "outputs": [
    {
     "name": "stdout",
     "output_type": "stream",
     "text": [
      "\n",
      "Article e8da0128-3676-4dd9-9daa-8511b94ca993\n",
      "THE ESKOM FILES | In full: Report by Ishmael\n",
      "--------------------------------------------\n",
      "André de Ruyter >> employer >> ESKOM\n",
      "[96:111], [4:9]                \n",
      "ESKOM >> chairperson >> André de Ruyter\n",
      "[4:9], [96:111]                \n",
      "André de Ruyter >> position held >> CEO\n",
      "[469:484], [464:467]                \n",
      "widely publicised allegations >> participant >> André de Ruyter\n",
      "[722:751], [469:484]                \n",
      "widely publicised allegations >> named after >> André de Ruyter\n",
      "[722:751], [469:484]                \n",
      "Pravin Gordhan >> position held >> Public Enterprises Minister\n",
      "[1045:1059], [1017:1044]                \n",
      "Public Enterprises Minister >> officeholder >> Pravin Gordhan\n",
      "[1017:1044], [1045:1059]                \n"
     ]
    }
   ],
   "source": [
    "articles[0].print_relations()"
   ]
  },
  {
   "cell_type": "markdown",
   "id": "7a30e37b-0c13-4730-8ce6-c3adb387ad50",
   "metadata": {},
   "source": [
    "## Import additional libraries & ontology data"
   ]
  },
  {
   "cell_type": "code",
   "execution_count": 9,
   "id": "39f292a3-8a5c-4339-921f-5acc7e3af5a6",
   "metadata": {
    "tags": []
   },
   "outputs": [],
   "source": [
    "from datetime import datetime, timedelta\n",
    "from kg_builder import get_wikidata_prepared_info\n",
    "from kg_builder import make_lookup_dict_from_df\n",
    "from kg_builder import track_relation_origin\n",
    "\n",
    "import os\n",
    "import logging\n",
    "\n",
    "log_file_path = os.path.join(os.getcwd(), 'kg_builder.log')\n",
    "\n",
    "logger = logging.getLogger(__name__)\n",
    "logging.basicConfig(filename=log_file_path, encoding='utf-8', level=logging.DEBUG)"
   ]
  },
  {
   "cell_type": "code",
   "execution_count": 10,
   "id": "0eb6824f-593b-49e4-bb54-40640699d06b",
   "metadata": {
    "tags": []
   },
   "outputs": [],
   "source": [
    "# rebel_flair_overview contains a summary of relations to be included\n",
    "rebel_flair_overview, _, _, _, _ = get_wikidata_prepared_info('reference_info/wikidata_references.pkl')\n",
    "\n",
    "# We only want to evaluate relations which have been preselected for inclusion\n",
    "included_relations = list(rebel_flair_overview.loc[rebel_flair_overview['rebel description'].notna(), 'rebel description'])\n",
    "included_relations += list(make_lookup_dict_from_df(rebel_flair_overview[rebel_flair_overview['rebel description'].notna()], 'rebel description', 'inverse description').values())\n",
    "included_relations += ['alternate_name'] # additional Flair relation not in REBEL\n",
    "included_relations = list(set(included_relations))"
   ]
  },
  {
   "cell_type": "markdown",
   "id": "66cf32a5-7c6d-4d44-a2e5-1db944b28714",
   "metadata": {},
   "source": [
    "## Build KG\n",
    "\n",
    "### Perform base model post-processing"
   ]
  },
  {
   "cell_type": "code",
   "execution_count": 11,
   "id": "2730871d-c3d0-4399-8acf-986531515d2b",
   "metadata": {
    "tags": []
   },
   "outputs": [],
   "source": [
    "run_start = datetime.now()\n",
    "for article in articles:\n",
    "    article.relations = [relation for relation in article.relations if relation.relation_type in included_relations]\n",
    "    rex.populate_inverse_relations(article)\n",
    "    rex.get_main_relations_only(article)\n",
    "    rex.cleanup_alternate_name_pairs(article)\n",
    "    rex.cleanup_duplicate_alternate_name_pairs(article)\n",
    "    rex.populate_alt_names_mentions(article)\n",
    "    rex.populate_clean_relation_texts(article)\n",
    "    rex.cleanup_overlapping_relations(article)\n",
    "    rex.remove_ambiguous_relations(article)\n",
    "    rex.populate_node_types(article)"
   ]
  },
  {
   "cell_type": "markdown",
   "id": "bb22f2d9-f266-4552-b2c9-d1a0bd5c23c4",
   "metadata": {
    "tags": []
   },
   "source": [
    "### Build KG with EL\n",
    "\n",
    "Entity linking is incorporated into the final KG building algorithm."
   ]
  },
  {
   "cell_type": "code",
   "execution_count": 12,
   "id": "f24fdda3-948f-4d0d-b827-6e7e31fbef22",
   "metadata": {
    "tags": []
   },
   "outputs": [
    {
     "name": "stderr",
     "output_type": "stream",
     "text": [
      "WARNING: entity-schema datatype is not supported yet.\n"
     ]
    },
    {
     "name": "stdout",
     "output_type": "stream",
     "text": [
      "5 articles completed, short sleep...\n",
      "resuming...\n"
     ]
    },
    {
     "name": "stderr",
     "output_type": "stream",
     "text": [
      "WARNING: entity-schema datatype is not supported yet.\n",
      "WARNING: entity-schema datatype is not supported yet.\n"
     ]
    },
    {
     "name": "stdout",
     "output_type": "stream",
     "text": [
      "10 articles completed, short sleep...\n",
      "resuming...\n"
     ]
    },
    {
     "name": "stderr",
     "output_type": "stream",
     "text": [
      "WARNING: entity-schema datatype is not supported yet.\n",
      "WARNING: entity-schema datatype is not supported yet.\n",
      "WARNING: entity-schema datatype is not supported yet.\n"
     ]
    },
    {
     "name": "stdout",
     "output_type": "stream",
     "text": [
      "15 articles completed, short sleep...\n",
      "resuming...\n"
     ]
    },
    {
     "name": "stderr",
     "output_type": "stream",
     "text": [
      "WARNING: entity-schema datatype is not supported yet.\n"
     ]
    },
    {
     "name": "stdout",
     "output_type": "stream",
     "text": [
      "20 articles completed, short sleep...\n",
      "resuming...\n"
     ]
    },
    {
     "name": "stderr",
     "output_type": "stream",
     "text": [
      "WARNING: entity-schema datatype is not supported yet.\n",
      "WARNING: entity-schema datatype is not supported yet.\n"
     ]
    },
    {
     "name": "stdout",
     "output_type": "stream",
     "text": [
      "25 articles completed, short sleep...\n",
      "resuming...\n"
     ]
    },
    {
     "name": "stderr",
     "output_type": "stream",
     "text": [
      "WARNING: entity-schema datatype is not supported yet.\n",
      "WARNING: entity-schema datatype is not supported yet.\n"
     ]
    },
    {
     "name": "stdout",
     "output_type": "stream",
     "text": [
      ">====== 30 articles processed ======<\n",
      "0:04:26.352838\n"
     ]
    }
   ],
   "source": [
    "my_kg = kg.KGData()\n",
    "el_tagger = kg.setup_el_tagger()\n",
    "\n",
    "sleeps = 0\n",
    "start_index, end_index = (0, 31)\n",
    "for i, article in enumerate(articles[start_index:end_index]):\n",
    "    \n",
    "    logger.info(f'''Fetching article # {i + start_index}''')\n",
    "    kg.update_kg_from_article(my_kg, article, el_tagger)\n",
    "    \n",
    "    # Do a long sleep every 50 articles\n",
    "    if (i + start_index) % 50 == 0 and i != 0:\n",
    "        print(f'''{i + start_index} articles completed, long sleep...''')\n",
    "        sleeps += 90\n",
    "        time.sleep(90)\n",
    "        print(f'''resuming...''')\n",
    "        \n",
    "    # Do a short sleep every 5 articles\n",
    "    elif (i + start_index) % 5 == 0 and i != 0:\n",
    "        print(f'''{i + start_index} articles completed, short sleep...''')\n",
    "        sleeps += 30\n",
    "        time.sleep(30)\n",
    "        print(f'''resuming...''')\n",
    "        \n",
    "run_end = datetime.now()\n",
    "runtime = run_end - run_start - timedelta(seconds=sleeps)\n",
    "print(f'''>====== {len(articles)} articles processed ======<''')\n",
    "print(runtime)     "
   ]
  },
  {
   "cell_type": "markdown",
   "id": "0fd953ae-2313-4007-abf5-c376ba1e51f2",
   "metadata": {},
   "source": [
    "## Inspect one entity and relations\n"
   ]
  },
  {
   "cell_type": "code",
   "execution_count": 13,
   "id": "89dbaa3e-3191-4388-b783-8aed31285c22",
   "metadata": {
    "tags": []
   },
   "outputs": [
    {
     "data": {
      "text/plain": [
       "[KGEntity(EntityId='QgN5rzu3q', Name='Jacob Zuma', Type='PERSON', Updated=datetime.datetime(2024, 9, 11, 10, 52, 28, 207858), WDId='Q57282', WDUrl='https://www.wikidata.org/entity/Q57282', WDDescription='4th President of South Africa (2009–2018)', WDRetry=99, WDSource='OpenTapioca', WDRetryArticles={'20a33955-28e7-4f4c-b8c5-1f01355b7fb1'}, PywikiStatus='Q57282', AlsoKnownAs={'Jacob G. Zuma', 'Msholozi', 'JZ', 'Jacob Gedleyihlekisa Zuma'})]"
      ]
     },
     "execution_count": 13,
     "metadata": {},
     "output_type": "execute_result"
    }
   ],
   "source": [
    "# The entity Jacob Zuma\n",
    "# - correctly identified as a person\n",
    "# - correctly matched to Wikidata (using OpenTapioca)\n",
    "# - AlsoKnownAs terms have been collected\n",
    "jz_entity = [entity for entity in my_kg.entities if entity.Name == 'Jacob Zuma']\n",
    "jz_entity"
   ]
  },
  {
   "cell_type": "code",
   "execution_count": 14,
   "id": "91020187-f049-4e66-8552-35f03af085c3",
   "metadata": {
    "tags": []
   },
   "outputs": [
    {
     "data": {
      "text/plain": [
       "'QgN5rzu3q'"
      ]
     },
     "execution_count": 14,
     "metadata": {},
     "output_type": "execute_result"
    }
   ],
   "source": [
    "jz_entity[0].EntityId"
   ]
  },
  {
   "cell_type": "code",
   "execution_count": 15,
   "id": "1c53686c-8c6d-4ad1-b50b-e25508a49e43",
   "metadata": {
    "tags": []
   },
   "outputs": [
    {
     "data": {
      "text/plain": [
       "[{'Q57282': {'WDUrl': 'https://www.wikidata.org/entity/Q57282',\n",
       "   'WDName': 'Jacob Zuma',\n",
       "   'WDType': 'PERSON',\n",
       "   'WDAlsoKnown': {'JZ',\n",
       "    'Jacob G. Zuma',\n",
       "    'Jacob Gedleyihlekisa Zuma',\n",
       "    'Msholozi'},\n",
       "   'WDDescription': '4th President of South Africa (2009–2018)',\n",
       "   'WDSource': 'OpenTapioca',\n",
       "   'EntityId': 'QgN5rzu3q'}}]"
      ]
     },
     "execution_count": 15,
     "metadata": {},
     "output_type": "execute_result"
    }
   ],
   "source": [
    "# The WD tracker data for Jacob Zuma\n",
    "jz_wikidata = [{k: v} for k, v in my_kg.wd_tracker.items() if v['WDName'] == 'Jacob Zuma']\n",
    "jz_wikidata"
   ]
  },
  {
   "cell_type": "code",
   "execution_count": 16,
   "id": "6c9f0e87-19c5-4a56-b1da-6a155b7f0bc9",
   "metadata": {
    "tags": []
   },
   "outputs": [
    {
     "data": {
      "text/plain": [
       "[KGRelation(RelationId='TDP3tQUul', HeadId='QgN5rzu3q', HeadName='Jacob Zuma', Type='position held', TailId='h4zGpNzhF', TailName='President', Updated=datetime.datetime(2024, 9, 11, 10, 54, 49, 915163), Instances={('20a33955-28e7-4f4c-b8c5-1f01355b7fb1', 'breaking-zuma-can-avoid-jail-time-if-he-agrees-to-testify-now-zondo-20210222', (1343, 1993)): 1, ('84658550-7d66-46f4-af60-b7ec31a9a7e1', 'agrizzi-will-no-longer-testify-at-mokgoro-inquiry-as-expected-20190214', (1986, 2212)): 1, ('88942040-5427-488a-9b46-517a39b17a28', 'zondo-report-part-4-where-was-the-anc-as-the-guptas-took-control-of-important-soes-asks-the-da-20220429', (2385, 2861)): 1, ('0eea49aa-749d-47b8-887c-e51248e75f5c', 'ralph-mathekga-the-law-is-straightforward-no-one-needs-to-convince-zuma-to-abide-by-court-order-20210209', (17, 629)): 1}, WDType='P39'),\n",
       " KGRelation(RelationId='5X4AT5eLf', HeadId='QgN5rzu3q', HeadName='Jacob Zuma', Type='mentioned_in', TailId='20a33955-28e7-4f4c-b8c5-1f01355b7fb1', TailName='breaking-zuma-can-avoid-jail-time-if-he-agrees-to-testify-now-zondo-20210222', Updated=datetime.datetime(2024, 9, 11, 10, 52, 28, 817350), Instances={('', '', ''): 2}, WDType=None),\n",
       " KGRelation(RelationId='ZL0z8LpyW', HeadId='kyjF4MOCo', HeadName='Zondo commission', Type='participant', TailId='QgN5rzu3q', TailName='Jacob Zuma', Updated=datetime.datetime(2024, 9, 11, 10, 52, 39, 702763), Instances={('84658550-7d66-46f4-af60-b7ec31a9a7e1', 'agrizzi-will-no-longer-testify-at-mokgoro-inquiry-as-expected-20190214', (1902, 2212)): 1}, WDType='P710'),\n",
       " KGRelation(RelationId='mx8i3bvUs', HeadId='QgN5rzu3q', HeadName='Jacob Zuma', Type='mentioned_in', TailId='84658550-7d66-46f4-af60-b7ec31a9a7e1', TailName='agrizzi-will-no-longer-testify-at-mokgoro-inquiry-as-expected-20190214', Updated=datetime.datetime(2024, 9, 11, 10, 52, 43, 164779), Instances={('', '', ''): 1}, WDType=None),\n",
       " KGRelation(RelationId='4aS11k3fe', HeadId='QgN5rzu3q', HeadName='Jacob Zuma', Type='member of political party', TailId='YdzI9Di8a', TailName='ANC', Updated=datetime.datetime(2024, 9, 11, 10, 58, 33, 376647), Instances={('88942040-5427-488a-9b46-517a39b17a28', 'zondo-report-part-4-where-was-the-anc-as-the-guptas-took-control-of-important-soes-asks-the-da-20220429', (1159, 1942)): 1, ('0eea49aa-749d-47b8-887c-e51248e75f5c', 'ralph-mathekga-the-law-is-straightforward-no-one-needs-to-convince-zuma-to-abide-by-court-order-20210209', (528, 938)): 1, ('0bcf78a6-b46b-4c9b-8d38-d1f896102dab', 'anc-accepted-bosasa-millions-for-years-20190219', (474, 896)): 1}, WDType='P102'),\n",
       " KGRelation(RelationId='dikcA5giZ', HeadId='QgN5rzu3q', HeadName='Jacob Zuma', Type='family', TailId='ye6T3GgNf', TailName='Guptas', Updated=datetime.datetime(2024, 9, 11, 10, 54, 44, 916947), Instances={('88942040-5427-488a-9b46-517a39b17a28', 'zondo-report-part-4-where-was-the-anc-as-the-guptas-took-control-of-important-soes-asks-the-da-20220429', (3183, 3471)): 1, ('4e36ae17-daf1-4882-b26c-b937aa3b12f9', 'analysis-as-the-screws-are-turned-on-zuma-the-pressure-starts-to-show-20190716', (2930, 3726)): 1}, WDType='P53'),\n",
       " KGRelation(RelationId='GnVLp5dz3', HeadId='QgN5rzu3q', HeadName='Jacob Zuma', Type='mentioned_in', TailId='88942040-5427-488a-9b46-517a39b17a28', TailName='zondo-report-part-4-where-was-the-anc-as-the-guptas-took-control-of-important-soes-asks-the-da-20220429', Updated=datetime.datetime(2024, 9, 11, 10, 53, 31, 861807), Instances={('', '', ''): 1}, WDType=None),\n",
       " KGRelation(RelationId='7KRyu9Wsv', HeadId='QgN5rzu3q', HeadName='Jacob Zuma', Type='employer', TailId='5iz0IfIC8', TailName='Parliament', Updated=datetime.datetime(2024, 9, 11, 10, 54, 44, 360068), Instances={('4e36ae17-daf1-4882-b26c-b937aa3b12f9', 'analysis-as-the-screws-are-turned-on-zuma-the-pressure-starts-to-show-20190716', (2045, 2239)): 1}, WDType='P108'),\n",
       " KGRelation(RelationId='eZVgyFG2B', HeadId='QgN5rzu3q', HeadName='Jacob Zuma', Type='mentioned_in', TailId='4e36ae17-daf1-4882-b26c-b937aa3b12f9', TailName='analysis-as-the-screws-are-turned-on-zuma-the-pressure-starts-to-show-20190716', Updated=datetime.datetime(2024, 9, 11, 10, 54, 49, 913471), Instances={('', '', ''): 2}, WDType=None),\n",
       " KGRelation(RelationId='5wxvqPxxY', HeadId='YdzI9Di8a', HeadName='anc', Type='chairperson', TailId='QgN5rzu3q', TailName='Jacob Zuma', Updated=datetime.datetime(2024, 9, 11, 10, 54, 49, 915684), Instances={('0eea49aa-749d-47b8-887c-e51248e75f5c', 'ralph-mathekga-the-law-is-straightforward-no-one-needs-to-convince-zuma-to-abide-by-court-order-20210209', (528, 938)): 1}, WDType='P488'),\n",
       " KGRelation(RelationId='ahaYDRRSj', HeadId='c0dRixrDI', HeadName='constitutional crisis', Type='participant', TailId='QgN5rzu3q', TailName='Jacob Zuma', Updated=datetime.datetime(2024, 9, 11, 10, 54, 50, 342641), Instances={('0eea49aa-749d-47b8-887c-e51248e75f5c', 'ralph-mathekga-the-law-is-straightforward-no-one-needs-to-convince-zuma-to-abide-by-court-order-20210209', (1089, 1390)): 1}, WDType='P710'),\n",
       " KGRelation(RelationId='Ci8F0TSiF', HeadId='OvxjosJc6', HeadName=\"Zuma's defiance campaign\", Type='participant', TailId='QgN5rzu3q', TailName='Jacob Zuma', Updated=datetime.datetime(2024, 9, 11, 10, 54, 55, 398557), Instances={('0eea49aa-749d-47b8-887c-e51248e75f5c', 'ralph-mathekga-the-law-is-straightforward-no-one-needs-to-convince-zuma-to-abide-by-court-order-20210209', (2849, 3380)): 1}, WDType='P710'),\n",
       " KGRelation(RelationId='E1bt9c2NO', HeadId='QgN5rzu3q', HeadName='Jacob Zuma', Type='mentioned_in', TailId='0eea49aa-749d-47b8-887c-e51248e75f5c', TailName='ralph-mathekga-the-law-is-straightforward-no-one-needs-to-convince-zuma-to-abide-by-court-order-20210209', Updated=datetime.datetime(2024, 9, 11, 10, 54, 55, 565951), Instances={('', '', ''): 3}, WDType=None),\n",
       " KGRelation(RelationId='kVW7ntmlx', HeadId='1YEZGOg6N', HeadName='Zuma trial', Type='participant', TailId='QgN5rzu3q', TailName='Jacob Zuma', Updated=datetime.datetime(2024, 9, 11, 10, 55, 35, 586128), Instances={('56b1a332-4b06-4422-9419-41797e9434a0', 'first-take-all-sound-and-fury-but-little-chance-of-early-acquittal-4-takeaways-from-the-zuma-trial-20210526', (13, 323)): 1}, WDType='P710'),\n",
       " KGRelation(RelationId='QLsWmQXkS', HeadId='vVJcm4Ym8', HeadName='Arms Deal corruption case', Type='participant', TailId='QgN5rzu3q', TailName='Jacob Zuma', Updated=datetime.datetime(2024, 9, 11, 10, 55, 35, 743696), Instances={('56b1a332-4b06-4422-9419-41797e9434a0', 'first-take-all-sound-and-fury-but-little-chance-of-early-acquittal-4-takeaways-from-the-zuma-trial-20210526', (548, 809)): 1}, WDType='P710'),\n",
       " KGRelation(RelationId='cwMrFlfHL', HeadId='QgN5rzu3q', HeadName='Jacob Zuma', Type='mentioned_in', TailId='56b1a332-4b06-4422-9419-41797e9434a0', TailName='first-take-all-sound-and-fury-but-little-chance-of-early-acquittal-4-takeaways-from-the-zuma-trial-20210526', Updated=datetime.datetime(2024, 9, 11, 10, 55, 50, 158068), Instances={('', '', ''): 3}, WDType=None),\n",
       " KGRelation(RelationId='R7iZJVP9T', HeadId='VrpfojKpr', HeadName='Zondo commission of inquiry into state capture', Type='participant', TailId='QgN5rzu3q', TailName='Jacob Zuma', Updated=datetime.datetime(2024, 9, 11, 10, 55, 50, 316755), Instances={('21749934-ed08-4807-9c6a-80d00b47713e', 'south-africans-deserve-to-know-the-questions-zuma-dodged-at-zondo-commission-20210216', (0, 910)): 1}, WDType='P710'),\n",
       " KGRelation(RelationId='y0GC1omLS', HeadId='b465TKqzT', HeadName='Zondo commission of inquiry', Type='participant', TailId='QgN5rzu3q', TailName='Jacob Zuma', Updated=datetime.datetime(2024, 9, 11, 10, 55, 50, 462302), Instances={('21749934-ed08-4807-9c6a-80d00b47713e', 'south-africans-deserve-to-know-the-questions-zuma-dodged-at-zondo-commission-20210216', (0, 314)): 1}, WDType='P710'),\n",
       " KGRelation(RelationId='IV26zuc7I', HeadId='QgN5rzu3q', HeadName='Jacob Zuma', Type='family', TailId='f72eb1XKh', TailName='Gupta family', Updated=datetime.datetime(2024, 9, 11, 10, 55, 52, 121289), Instances={('21749934-ed08-4807-9c6a-80d00b47713e', 'south-africans-deserve-to-know-the-questions-zuma-dodged-at-zondo-commission-20210216', (1858, 1990)): 1}, WDType='P53'),\n",
       " KGRelation(RelationId='clbWH7Dqz', HeadId='QgN5rzu3q', HeadName='Jacob Zuma', Type='mentioned_in', TailId='21749934-ed08-4807-9c6a-80d00b47713e', TailName='south-africans-deserve-to-know-the-questions-zuma-dodged-at-zondo-commission-20210216', Updated=datetime.datetime(2024, 9, 11, 10, 55, 54, 472733), Instances={('', '', ''): 3}, WDType=None),\n",
       " KGRelation(RelationId='v2B1BRzUc', HeadId='0m822mMIw', HeadName='State capture inquiry', Type='participant', TailId='QgN5rzu3q', TailName='Jacob Zuma', Updated=datetime.datetime(2024, 9, 11, 10, 55, 54, 473279), Instances={('0a7dc885-07b9-474f-8990-10e0eb166edb', 'state-capture-inquiry-says-it-has-further-evidence-on-ssas-alleged-payments-to-zuma-attempts-to-bribe-judges-20210126', (0, 260)): 1}, WDType='P710'),\n",
       " KGRelation(RelationId='zkeLHS9Li', HeadId='QQrktAfu0', HeadName='state capture', Type='participant', TailId='QgN5rzu3q', TailName='Jacob Zuma', Updated=datetime.datetime(2024, 9, 11, 10, 55, 55, 91716), Instances={('0a7dc885-07b9-474f-8990-10e0eb166edb', 'state-capture-inquiry-says-it-has-further-evidence-on-ssas-alleged-payments-to-zuma-attempts-to-bribe-judges-20210126', (836, 1288)): 1}, WDType='P710'),\n",
       " KGRelation(RelationId='lyuwNBF48', HeadId='3xibogFvn', HeadName='imminent prospect of being tried for corruption', Type='participant', TailId='QgN5rzu3q', TailName='Jacob Zuma', Updated=datetime.datetime(2024, 9, 11, 10, 56, 2, 25092), Instances={('0a7dc885-07b9-474f-8990-10e0eb166edb', 'state-capture-inquiry-says-it-has-further-evidence-on-ssas-alleged-payments-to-zuma-attempts-to-bribe-judges-20210126', (3533, 3820)): 1}, WDType='P710'),\n",
       " KGRelation(RelationId='OOTki84Cl', HeadId='QgN5rzu3q', HeadName='Jacob Zuma', Type='country of citizenship', TailId='AU5O7sReR', TailName='South Africa', Updated=datetime.datetime(2024, 9, 11, 10, 56, 6, 254899), Instances={('0a7dc885-07b9-474f-8990-10e0eb166edb', 'state-capture-inquiry-says-it-has-further-evidence-on-ssas-alleged-payments-to-zuma-attempts-to-bribe-judges-20210126', (5392, 6059)): 1}, WDType='P27'),\n",
       " KGRelation(RelationId='1hNwodnDH', HeadId='lWuLUeGR7', HeadName='Zondo inquiry', Type='participant', TailId='QgN5rzu3q', TailName='Jacob Zuma', Updated=datetime.datetime(2024, 9, 11, 10, 56, 10, 866059), Instances={('0a7dc885-07b9-474f-8990-10e0eb166edb', 'state-capture-inquiry-says-it-has-further-evidence-on-ssas-alleged-payments-to-zuma-attempts-to-bribe-judges-20210126', (7368, 7721)): 1}, WDType='P710'),\n",
       " KGRelation(RelationId='0sIjEhoO4', HeadId='QgN5rzu3q', HeadName='Jacob Zuma', Type='mentioned_in', TailId='0a7dc885-07b9-474f-8990-10e0eb166edb', TailName='state-capture-inquiry-says-it-has-further-evidence-on-ssas-alleged-payments-to-zuma-attempts-to-bribe-judges-20210126', Updated=datetime.datetime(2024, 9, 11, 10, 56, 10, 867236), Instances={('', '', ''): 2}, WDType=None),\n",
       " KGRelation(RelationId='ATkovvnhr', HeadId='QgN5rzu3q', HeadName='Jacob Zuma', Type='family', TailId='DZvZcWD1f', TailName='Nxamalala', Updated=datetime.datetime(2024, 9, 11, 10, 57, 22, 907574), Instances={('5a371a49-92c3-452f-a5af-944cde32d1a5', 'in-pictures-the-anc-proudly-sponsored-by-bosasa-20190227', (5185, 5710)): 1}, WDType='P53'),\n",
       " KGRelation(RelationId='BTUjYozmJ', HeadId='QgN5rzu3q', HeadName='Jacob Zuma', Type='mentioned_in', TailId='5a371a49-92c3-452f-a5af-944cde32d1a5', TailName='in-pictures-the-anc-proudly-sponsored-by-bosasa-20190227', Updated=datetime.datetime(2024, 9, 11, 10, 57, 26, 715532), Instances={('', '', ''): 4}, WDType=None),\n",
       " KGRelation(RelationId='IbUwanWNH', HeadId='QgN5rzu3q', HeadName='Jacob Zuma', Type='position held', TailId='9wIhCuCbZ', TailName='presidents', Updated=datetime.datetime(2024, 9, 11, 10, 58, 34, 731471), Instances={('0bcf78a6-b46b-4c9b-8d38-d1f896102dab', 'anc-accepted-bosasa-millions-for-years-20190219', (474, 896)): 1}, WDType='P39'),\n",
       " KGRelation(RelationId='WoZpSMVRi', HeadId='QgN5rzu3q', HeadName='Jacob Zuma', Type='mentioned_in', TailId='0bcf78a6-b46b-4c9b-8d38-d1f896102dab', TailName='anc-accepted-bosasa-millions-for-years-20190219', Updated=datetime.datetime(2024, 9, 11, 10, 58, 39, 781830), Instances={('', '', ''): 1}, WDType=None),\n",
       " KGRelation(RelationId='2Y9Wipf7Q', HeadId='QgN5rzu3q', HeadName='Jacob Zuma', Type='position held', TailId='y7SNJZktU', TailName='Zuma', Updated=datetime.datetime(2024, 9, 11, 10, 58, 50, 794791), Instances={('c94f87d7-1ec8-466f-9657-72ec3de41312', 'full-statement-zuma-responds-to-zondo-no-amount-of-intimidation-or-blackmail-will-change-my-position-20210215', (17, 261)): 1}, WDType='P39'),\n",
       " KGRelation(RelationId='F0iviyxks', HeadId='QgN5rzu3q', HeadName='Jacob Gedleyihlekisa Zuma', Type='member of', TailId='3jPB6u7dq', TailName='Constitutional Court', Updated=datetime.datetime(2024, 9, 11, 10, 58, 51, 9010), Instances={('c94f87d7-1ec8-466f-9657-72ec3de41312', 'full-statement-zuma-responds-to-zondo-no-amount-of-intimidation-or-blackmail-will-change-my-position-20210215', (492, 854)): 1}, WDType='P463'),\n",
       " KGRelation(RelationId='tMdEOBZWE', HeadId='QgN5rzu3q', HeadName='Jacob Zuma', Type='member of', TailId='9cqIFFyBQ', TailName='Zondo Commission', Updated=datetime.datetime(2024, 9, 11, 10, 58, 57, 42728), Instances={('c94f87d7-1ec8-466f-9657-72ec3de41312', 'full-statement-zuma-responds-to-zondo-no-amount-of-intimidation-or-blackmail-will-change-my-position-20210215', (14494, 14967)): 1}, WDType='P463'),\n",
       " KGRelation(RelationId='Gen4WlWsi', HeadId='QgN5rzu3q', HeadName='Jacob Zuma', Type='mentioned_in', TailId='c94f87d7-1ec8-466f-9657-72ec3de41312', TailName='full-statement-zuma-responds-to-zondo-no-amount-of-intimidation-or-blackmail-will-change-my-position-20210215', Updated=datetime.datetime(2024, 9, 11, 10, 58, 57, 44095), Instances={('', '', ''): 3}, WDType=None)]"
      ]
     },
     "execution_count": 16,
     "metadata": {},
     "output_type": "execute_result"
    }
   ],
   "source": [
    "# Relations found for Jacob Zuma\n",
    "jz_relations = [relation for relation in my_kg.relations \n",
    "                if relation.HeadId == jz_entity[0].EntityId \n",
    "                or relation.TailId == jz_entity[0].EntityId]\n",
    "jz_relations"
   ]
  },
  {
   "cell_type": "code",
   "execution_count": 17,
   "id": "c0181975-fa79-4375-a027-8e63320f8a77",
   "metadata": {
    "tags": []
   },
   "outputs": [
    {
     "name": "stdout",
     "output_type": "stream",
     "text": [
      "Relation TDP3tQUul: Jacob Zuma >> position held >> President\n",
      "\n",
      "Origin: breaking-zuma-can-avoid-jail-time-if-he-agrees-to-testify-now-zondo-20210222\n",
      "\n",
      " “For such relief to be possible and effective, a special arrangement would need to be made to hear Mr Zuma’s evidence before 31 March 2021,” Mosala said.\n",
      "Shortly after the Constitutional Court gave its unanimous judgment against him, Zuma publicly stated that he would defy the ruling for him to appear and answer questions about his nine years in office just as he had defied the unjust apartheid government – and insisted he was, “... prepared to go to jail”.\n",
      "True to his word, Zuma did not obey the inquiry summons issued for him to appear on 15 February.\n",
      " Mosala argues that the former President’s conduct poses a serious threat to rule of law.\n"
     ]
    }
   ],
   "source": [
    "# Viewing the text which the first relation was identified from\n",
    "# - a cross-sentence relation as can be seen here\n",
    "track_relation_origin(my_kg.relations, articles, jz_relations[0].RelationId)"
   ]
  },
  {
   "cell_type": "markdown",
   "id": "869a88e4-f53a-4d8c-a900-13172bb9307f",
   "metadata": {},
   "source": [
    "## Do some basic checks"
   ]
  },
  {
   "cell_type": "code",
   "execution_count": 18,
   "id": "72aae684-7d84-45ad-8e9d-e91354d79b29",
   "metadata": {
    "tags": []
   },
   "outputs": [
    {
     "data": {
      "text/plain": [
       "371"
      ]
     },
     "execution_count": 18,
     "metadata": {},
     "output_type": "execute_result"
    }
   ],
   "source": [
    "# Get number of ids from entities\n",
    "entities_ids = [entity.EntityId for entity in my_kg.entities]\n",
    "len(entities_ids)"
   ]
  },
  {
   "cell_type": "code",
   "execution_count": 19,
   "id": "da039bef-a4a5-46f3-ad00-0163b74f0f9c",
   "metadata": {
    "tags": []
   },
   "outputs": [
    {
     "data": {
      "text/plain": [
       "371"
      ]
     },
     "execution_count": 19,
     "metadata": {},
     "output_type": "execute_result"
    }
   ],
   "source": [
    "# Check that relations has the same number of entity ids\n",
    "heads = [relation.HeadId for relation in my_kg.relations]\n",
    "tails = [relation.TailId for relation in my_kg.relations]\n",
    "both = set(heads) | set(tails)\n",
    "len(both)"
   ]
  },
  {
   "cell_type": "code",
   "execution_count": 20,
   "id": "7a884f94-0cb3-404e-ad6f-46c86ba94258",
   "metadata": {
    "tags": []
   },
   "outputs": [
    {
     "data": {
      "text/plain": [
       "[]"
      ]
     },
     "execution_count": 20,
     "metadata": {},
     "output_type": "execute_result"
    }
   ],
   "source": [
    "# Check if any entities appear in relations that don't exist in entities - should be none\n",
    "[(i, relation) for i, relation in enumerate(my_kg.relations) if relation.HeadId not in entities_ids or relation.TailId not in entities_ids]"
   ]
  },
  {
   "cell_type": "code",
   "execution_count": 21,
   "id": "789f0c99-0a3d-4553-9550-5b129ba6e649",
   "metadata": {
    "tags": []
   },
   "outputs": [
    {
     "data": {
      "text/plain": [
       "[]"
      ]
     },
     "execution_count": 21,
     "metadata": {},
     "output_type": "execute_result"
    }
   ],
   "source": [
    "# Check if any entity ids exist that are not in the entities tracker - should be none\n",
    "[entity for entity in entities_ids if entity not in my_kg.entities_tracker.values()]"
   ]
  },
  {
   "cell_type": "code",
   "execution_count": 22,
   "id": "aaaae7f4-08fb-4453-8166-cfdece1eebdc",
   "metadata": {
    "tags": []
   },
   "outputs": [
    {
     "name": "stdout",
     "output_type": "stream",
     "text": [
      "70\n",
      "70\n"
     ]
    }
   ],
   "source": [
    "# Check that all entities in the wd_tracker have a corresponding WD entriy in entities\n",
    "wd_tracker_entities = [value['EntityId'] for value in my_kg.wd_tracker.values()]\n",
    "print(len(wd_tracker_entities))\n",
    "entities_with_wdid = [entity.EntityId for entity in my_kg.entities if entity.WDId is not None]\n",
    "print(len(entities_with_wdid))"
   ]
  }
 ],
 "metadata": {
  "environment": {
   "kernel": "conda-env-pytorch-pytorch",
   "name": "workbench-notebooks.m121",
   "type": "gcloud",
   "uri": "us-docker.pkg.dev/deeplearning-platform-release/gcr.io/workbench-notebooks:m121"
  },
  "kernelspec": {
   "display_name": "PyTorch 1-13 (Local)",
   "language": "python",
   "name": "conda-env-pytorch-pytorch"
  },
  "language_info": {
   "codemirror_mode": {
    "name": "ipython",
    "version": 3
   },
   "file_extension": ".py",
   "mimetype": "text/x-python",
   "name": "python",
   "nbconvert_exporter": "python",
   "pygments_lexer": "ipython3",
   "version": "3.10.14"
  }
 },
 "nbformat": 4,
 "nbformat_minor": 5
}
