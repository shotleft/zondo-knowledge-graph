{
 "cells": [
  {
   "cell_type": "markdown",
   "id": "fa848bdb-0b92-42ff-9325-eb70971fcdc5",
   "metadata": {},
   "source": [
    "# Round 4 Building the second KG\n",
    "\n",
    "For Round 4 we build the second KG using the model outputs from Round 2, the additional post-processing steps from Round 3, and two new post-processing steps as follows:\n",
    "\n",
    "- Cleanup overlapping relationships - for example 2 relations may have been found: _Raymond Zondo >> position held >> Deputy Chief Justice_ and _Raymond Zondo >> position held >> Chief Justice_ and we want to get the most complete version.\n",
    "- Remove ambiguous relations - for example 2 entities may have 2 different relation types associated with them, in this case we remove both as it would be unclear what the definitive relation is. \n",
    "\n",
    "The below code reads in the model outputs from Round 2, carries out additional post-processing steps on REX, builds the second KG, and exports the entities and relations identified to CSV files."
   ]
  },
  {
   "cell_type": "code",
   "execution_count": 1,
   "id": "e0e0a9ed-4b6b-4f8f-9863-e80a1de1bd84",
   "metadata": {
    "tags": []
   },
   "outputs": [],
   "source": [
    "import os\n",
    "import logging\n",
    "\n",
    "log_file_path = os.path.join(os.getcwd(), 'kg_builder.log')\n",
    "\n",
    "logger = logging.getLogger(__name__)\n",
    "logging.basicConfig(filename=log_file_path, encoding='utf-8', level=logging.DEBUG)"
   ]
  },
  {
   "cell_type": "code",
   "execution_count": 2,
   "id": "39f292a3-8a5c-4339-921f-5acc7e3af5a6",
   "metadata": {
    "tags": []
   },
   "outputs": [],
   "source": [
    "# Import required libraries\n",
    "import pickle\n",
    "import time\n",
    "from datetime import datetime, timedelta\n",
    "from kg_builder import kg\n",
    "from kg_builder import rex\n",
    "from kg_builder import get_wikidata_prepared_info\n",
    "from kg_builder import make_lookup_dict_from_df"
   ]
  },
  {
   "cell_type": "code",
   "execution_count": 3,
   "id": "7fcd24d9-21d2-4914-851c-b82c0dec5eb9",
   "metadata": {
    "tags": []
   },
   "outputs": [],
   "source": [
    "# Get the latest results\n",
    "with open('model_outputs/round2/results.pkl', 'rb') as file:\n",
    "    articles = pickle.load(file)"
   ]
  },
  {
   "cell_type": "code",
   "execution_count": 4,
   "id": "a532b7fc-6400-4f73-bfe9-1f9deeace3b8",
   "metadata": {
    "tags": []
   },
   "outputs": [],
   "source": [
    "# rebel_flair_overview contains a summary of relations to be included\n",
    "rebel_flair_overview, _, _, _, _ = get_wikidata_prepared_info('reference_info/wikidata_references.pkl')\n",
    "\n",
    "# We only want to evaluate relations which have been preselected for inclusion\n",
    "included_relations = list(rebel_flair_overview.loc[rebel_flair_overview['rebel description'].notna(), 'rebel description'])\n",
    "included_relations += list(make_lookup_dict_from_df(rebel_flair_overview[rebel_flair_overview['rebel description'].notna()], 'rebel description', 'inverse description').values())\n",
    "included_relations += ['alternate_name'] # additional Flair relation not in REBEL\n",
    "included_relations = list(set(included_relations))"
   ]
  },
  {
   "cell_type": "code",
   "execution_count": 5,
   "id": "6d4076ab-1640-4d10-b998-dc30fed76a91",
   "metadata": {
    "tags": []
   },
   "outputs": [],
   "source": [
    "run_start = datetime.now()"
   ]
  },
  {
   "cell_type": "code",
   "execution_count": 6,
   "id": "42a0dce8-16c5-4d8e-86e3-955d098de04a",
   "metadata": {
    "tags": []
   },
   "outputs": [],
   "source": [
    "# Only include pre-identified relations\n",
    "for article in articles:\n",
    "    article.relations = [relation for relation in article.relations if relation.relation_type in included_relations]"
   ]
  },
  {
   "cell_type": "code",
   "execution_count": 7,
   "id": "496ca7a8-50e0-4efd-9009-54777b59a0a3",
   "metadata": {
    "tags": []
   },
   "outputs": [],
   "source": [
    "for article in articles:\n",
    "    rex.populate_inverse_relations(article)\n",
    "    rex.get_main_relations_only(article)\n",
    "    rex.cleanup_alternate_name_pairs(article)\n",
    "    rex.cleanup_duplicate_alternate_name_pairs(article)\n",
    "    rex.populate_alt_names_mentions(article)\n",
    "    rex.populate_clean_relation_texts(article)\n",
    "    \n",
    "    # Additional for Round 4\n",
    "    rex.cleanup_overlapping_relations(article)\n",
    "    rex.remove_ambiguous_relations(article)\n",
    "    \n",
    "    rex.populate_node_types(article)"
   ]
  },
  {
   "cell_type": "code",
   "execution_count": 8,
   "id": "8d206574-e585-428b-9d1b-fd05b8621f49",
   "metadata": {
    "tags": []
   },
   "outputs": [],
   "source": [
    "el_tagger = kg.setup_el_tagger()"
   ]
  },
  {
   "cell_type": "code",
   "execution_count": 9,
   "id": "7f750060-7cfa-4425-a468-d8eeca99def2",
   "metadata": {
    "tags": []
   },
   "outputs": [],
   "source": [
    "my_kg = kg.KGData()"
   ]
  },
  {
   "cell_type": "code",
   "execution_count": 10,
   "id": "1744fcc7-b47c-43ed-9e92-5accf373807c",
   "metadata": {
    "tags": []
   },
   "outputs": [
    {
     "name": "stderr",
     "output_type": "stream",
     "text": [
      "WARNING: entity-schema datatype is not supported yet.\n",
      "WARNING: entity-schema datatype is not supported yet.\n",
      "WARNING: entity-schema datatype is not supported yet.\n",
      "WARNING: entity-schema datatype is not supported yet.\n",
      "WARNING: entity-schema datatype is not supported yet.\n"
     ]
    },
    {
     "name": "stdout",
     "output_type": "stream",
     "text": [
      "5 articles completed, short sleep...\n",
      "resuming...\n"
     ]
    },
    {
     "name": "stderr",
     "output_type": "stream",
     "text": [
      "WARNING: entity-schema datatype is not supported yet.\n",
      "WARNING: entity-schema datatype is not supported yet.\n",
      "WARNING: entity-schema datatype is not supported yet.\n",
      "WARNING: entity-schema datatype is not supported yet.\n",
      "WARNING: entity-schema datatype is not supported yet.\n",
      "WARNING: entity-schema datatype is not supported yet.\n",
      "WARNING: entity-schema datatype is not supported yet.\n"
     ]
    },
    {
     "name": "stdout",
     "output_type": "stream",
     "text": [
      "10 articles completed, short sleep...\n",
      "resuming...\n"
     ]
    },
    {
     "name": "stderr",
     "output_type": "stream",
     "text": [
      "WARNING: entity-schema datatype is not supported yet.\n",
      "WARNING: entity-schema datatype is not supported yet.\n",
      "Sleeping for 5.0 seconds, 2024-09-01 13:20:24\n",
      "Sleeping for 5.0 seconds, 2024-09-01 13:20:29\n",
      "Sleeping for 5.0 seconds, 2024-09-01 13:20:34\n"
     ]
    },
    {
     "name": "stdout",
     "output_type": "stream",
     "text": [
      "15 articles completed, short sleep...\n",
      "resuming...\n"
     ]
    },
    {
     "name": "stderr",
     "output_type": "stream",
     "text": [
      "WARNING: entity-schema datatype is not supported yet.\n",
      "WARNING: entity-schema datatype is not supported yet.\n",
      "WARNING: entity-schema datatype is not supported yet.\n",
      "WARNING: entity-schema datatype is not supported yet.\n",
      "WARNING: entity-schema datatype is not supported yet.\n",
      "WARNING: entity-schema datatype is not supported yet.\n",
      "WARNING: entity-schema datatype is not supported yet.\n",
      "WARNING: entity-schema datatype is not supported yet.\n"
     ]
    },
    {
     "name": "stdout",
     "output_type": "stream",
     "text": [
      "20 articles completed, short sleep...\n",
      "resuming...\n"
     ]
    },
    {
     "name": "stderr",
     "output_type": "stream",
     "text": [
      "WARNING: entity-schema datatype is not supported yet.\n",
      "WARNING: entity-schema datatype is not supported yet.\n",
      "WARNING: entity-schema datatype is not supported yet.\n",
      "WARNING: entity-schema datatype is not supported yet.\n",
      "WARNING: entity-schema datatype is not supported yet.\n",
      "WARNING: entity-schema datatype is not supported yet.\n"
     ]
    },
    {
     "name": "stdout",
     "output_type": "stream",
     "text": [
      "25 articles completed, short sleep...\n",
      "resuming...\n"
     ]
    },
    {
     "name": "stderr",
     "output_type": "stream",
     "text": [
      "WARNING: entity-schema datatype is not supported yet.\n",
      "WARNING: entity-schema datatype is not supported yet.\n",
      "Sleeping for 5.0 seconds, 2024-09-01 13:23:34\n",
      "Sleeping for 5.0 seconds, 2024-09-01 13:23:40\n",
      "Sleeping for 6.1 seconds, 2024-09-01 13:23:45\n",
      "Sleeping for 5.3 seconds, 2024-09-01 13:23:51\n",
      "WARNING: entity-schema datatype is not supported yet.\n",
      "WARNING: entity-schema datatype is not supported yet.\n",
      "WARNING: entity-schema datatype is not supported yet.\n",
      "WARNING: entity-schema datatype is not supported yet.\n",
      "WARNING: entity-schema datatype is not supported yet.\n",
      "WARNING: entity-schema datatype is not supported yet.\n"
     ]
    }
   ],
   "source": [
    "sleeps = 0\n",
    "start_index, end_index = (0, 31)\n",
    "for i, article in enumerate(articles[start_index:end_index]):\n",
    "    \n",
    "    logger.info(f'''Fetching article # {i + start_index}''')\n",
    "    kg.update_kg_from_article(my_kg, article, el_tagger)\n",
    "    \n",
    "    # Do a long sleep every 50 articles\n",
    "    if (i + start_index) % 50 == 0 and i != 0:\n",
    "        print(f'''{i + start_index} articles completed, long sleep...''')\n",
    "        sleeps += 90\n",
    "        time.sleep(90)\n",
    "        print(f'''resuming...''')\n",
    "        \n",
    "    # Do a short sleep every 5 articles\n",
    "    elif (i + start_index) % 5 == 0 and i != 0:\n",
    "        print(f'''{i + start_index} articles completed, short sleep...''')\n",
    "        sleeps += 30\n",
    "        time.sleep(30)\n",
    "        print(f'''resuming...''')\n",
    "        \n",
    "run_end = datetime.now()"
   ]
  },
  {
   "cell_type": "code",
   "execution_count": 11,
   "id": "ac3721b8-55ce-44a3-8f2c-8aab15b72c2a",
   "metadata": {},
   "outputs": [
    {
     "name": "stdout",
     "output_type": "stream",
     "text": [
      "0:03:32.360173\n"
     ]
    }
   ],
   "source": [
    "runtime = run_end - run_start - timedelta(seconds=sleeps)\n",
    "print(runtime)"
   ]
  },
  {
   "cell_type": "code",
   "execution_count": 12,
   "id": "c70fce2a-34ae-48a1-9b0b-ee8a4c2f2388",
   "metadata": {
    "tags": []
   },
   "outputs": [
    {
     "name": "stdout",
     "output_type": "stream",
     "text": [
      "nx CSV files exported for entities.\n",
      "nx CSV files exported for relations.\n"
     ]
    }
   ],
   "source": [
    "# We want to export the whole KG so pick an old date and export all entries\n",
    "very_old_date = datetime(2023, 8, 11, 15, 25, 28, 569055)\n",
    "my_kg.prepare_kg_nx_files(very_old_date, 'csv_outputs/nx', 'round4')"
   ]
  }
 ],
 "metadata": {
  "environment": {
   "kernel": "conda-env-pytorch-pytorch",
   "name": "workbench-notebooks.m120",
   "type": "gcloud",
   "uri": "us-docker.pkg.dev/deeplearning-platform-release/gcr.io/workbench-notebooks:m120"
  },
  "kernelspec": {
   "display_name": "PyTorch 1-13",
   "language": "python",
   "name": "conda-env-pytorch-pytorch"
  },
  "language_info": {
   "codemirror_mode": {
    "name": "ipython",
    "version": 3
   },
   "file_extension": ".py",
   "mimetype": "text/x-python",
   "name": "python",
   "nbconvert_exporter": "python",
   "pygments_lexer": "ipython3",
   "version": "3.10.14"
  }
 },
 "nbformat": 4,
 "nbformat_minor": 5
}
